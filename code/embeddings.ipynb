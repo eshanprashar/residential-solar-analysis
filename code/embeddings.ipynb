{
 "cells": [
  {
   "cell_type": "code",
   "execution_count": 1,
   "metadata": {},
   "outputs": [],
   "source": [
    "import pandas as pd\n",
    "from transformers import DistilBertTokenizer, DistilBertModel\n",
    "import torch"
   ]
  },
  {
   "cell_type": "code",
   "execution_count": 4,
   "metadata": {},
   "outputs": [],
   "source": [
    "# Function to generate embeddings\n",
    "def get_embeddings(text):\n",
    "    tokenizer = DistilBertTokenizer.from_pretrained('distilbert-base-uncased')\n",
    "    model = DistilBertModel.from_pretrained('distilbert-base-uncased')\n",
    "    inputs = tokenizer(text, return_tensors='pt', truncation=True, padding=True, max_length=200)\n",
    "    outputs = model(**inputs)\n",
    "    return outputs.last_hidden_state.mean(dim=1).detach().numpy()\n",
    "\n",
    "# Import data chunk from local\n",
    "data_path = \"/Users/eshan23/eshanprashar_git_profile/residential-solar-analysis/data/s3_inputs\"\n",
    "file_name = \"data_chunk_0.parquet\"\n",
    "df_chunk = pd.read_parquet(f\"{data_path}/{file_name}\")\n"
   ]
  },
  {
   "cell_type": "code",
   "execution_count": 25,
   "metadata": {},
   "outputs": [
    {
     "data": {
      "text/html": [
       "<div>\n",
       "<style scoped>\n",
       "    .dataframe tbody tr th:only-of-type {\n",
       "        vertical-align: middle;\n",
       "    }\n",
       "\n",
       "    .dataframe tbody tr th {\n",
       "        vertical-align: top;\n",
       "    }\n",
       "\n",
       "    .dataframe thead th {\n",
       "        text-align: right;\n",
       "    }\n",
       "</style>\n",
       "<table border=\"1\" class=\"dataframe\">\n",
       "  <thead>\n",
       "    <tr style=\"text-align: right;\">\n",
       "      <th></th>\n",
       "      <th>DESCRIPTION</th>\n",
       "      <th>DESCRIPTION_ID</th>\n",
       "      <th>CLEAN_DESCRIPTION</th>\n",
       "      <th>junk</th>\n",
       "      <th>LENGTH</th>\n",
       "    </tr>\n",
       "  </thead>\n",
       "  <tbody>\n",
       "    <tr>\n",
       "      <th>0</th>\n",
       "      <td>New attached solar heating green house</td>\n",
       "      <td>0</td>\n",
       "      <td>new attached solar heating green house</td>\n",
       "      <td>0</td>\n",
       "      <td>38</td>\n",
       "    </tr>\n",
       "    <tr>\n",
       "      <th>1</th>\n",
       "      <td>New attached solar heating greenhouse</td>\n",
       "      <td>1</td>\n",
       "      <td>new attached solar heating greenhouse</td>\n",
       "      <td>0</td>\n",
       "      <td>37</td>\n",
       "    </tr>\n",
       "    <tr>\n",
       "      <th>2</th>\n",
       "      <td>Addition of a family w/solar glass</td>\n",
       "      <td>2</td>\n",
       "      <td>addition family wsolar glass</td>\n",
       "      <td>0</td>\n",
       "      <td>28</td>\n",
       "    </tr>\n",
       "    <tr>\n",
       "      <th>3</th>\n",
       "      <td>Freestanding solar greenhouse</td>\n",
       "      <td>3</td>\n",
       "      <td>freestanding solar greenhouse</td>\n",
       "      <td>0</td>\n",
       "      <td>29</td>\n",
       "    </tr>\n",
       "    <tr>\n",
       "      <th>4</th>\n",
       "      <td>Addition of a solar sun space</td>\n",
       "      <td>4</td>\n",
       "      <td>addition solar sun space</td>\n",
       "      <td>0</td>\n",
       "      <td>24</td>\n",
       "    </tr>\n",
       "    <tr>\n",
       "      <th>...</th>\n",
       "      <td>...</td>\n",
       "      <td>...</td>\n",
       "      <td>...</td>\n",
       "      <td>...</td>\n",
       "      <td>...</td>\n",
       "    </tr>\n",
       "    <tr>\n",
       "      <th>78679</th>\n",
       "      <td>Install roof-mounted solar system at existing ...</td>\n",
       "      <td>78679</td>\n",
       "      <td>install roofmounted solar system existing sing...</td>\n",
       "      <td>0</td>\n",
       "      <td>65</td>\n",
       "    </tr>\n",
       "    <tr>\n",
       "      <th>78680</th>\n",
       "      <td>Install roof mounted solar system at existing ...</td>\n",
       "      <td>78680</td>\n",
       "      <td>install roof mounted solar system existing sin...</td>\n",
       "      <td>0</td>\n",
       "      <td>66</td>\n",
       "    </tr>\n",
       "    <tr>\n",
       "      <th>78681</th>\n",
       "      <td>Install (6) solar panels to exis system at exi...</td>\n",
       "      <td>78681</td>\n",
       "      <td>install 6 solar panels exis system exis single...</td>\n",
       "      <td>0</td>\n",
       "      <td>63</td>\n",
       "    </tr>\n",
       "    <tr>\n",
       "      <th>78682</th>\n",
       "      <td>Install solar panels at exsiting single family...</td>\n",
       "      <td>78682</td>\n",
       "      <td>install solar panels exsiting single family re...</td>\n",
       "      <td>0</td>\n",
       "      <td>53</td>\n",
       "    </tr>\n",
       "    <tr>\n",
       "      <th>78683</th>\n",
       "      <td>Install 3800 watt roof mnt solar panel system ...</td>\n",
       "      <td>78683</td>\n",
       "      <td>install 3800 watt roof mnt solar panel system ...</td>\n",
       "      <td>0</td>\n",
       "      <td>72</td>\n",
       "    </tr>\n",
       "  </tbody>\n",
       "</table>\n",
       "<p>78684 rows × 5 columns</p>\n",
       "</div>"
      ],
      "text/plain": [
       "                                             DESCRIPTION  DESCRIPTION_ID  \\\n",
       "0                 New attached solar heating green house               0   \n",
       "1                  New attached solar heating greenhouse               1   \n",
       "2                     Addition of a family w/solar glass               2   \n",
       "3                          Freestanding solar greenhouse               3   \n",
       "4                          Addition of a solar sun space               4   \n",
       "...                                                  ...             ...   \n",
       "78679  Install roof-mounted solar system at existing ...           78679   \n",
       "78680  Install roof mounted solar system at existing ...           78680   \n",
       "78681  Install (6) solar panels to exis system at exi...           78681   \n",
       "78682  Install solar panels at exsiting single family...           78682   \n",
       "78683  Install 3800 watt roof mnt solar panel system ...           78683   \n",
       "\n",
       "                                       CLEAN_DESCRIPTION  junk  LENGTH  \n",
       "0                 new attached solar heating green house     0      38  \n",
       "1                  new attached solar heating greenhouse     0      37  \n",
       "2                           addition family wsolar glass     0      28  \n",
       "3                          freestanding solar greenhouse     0      29  \n",
       "4                               addition solar sun space     0      24  \n",
       "...                                                  ...   ...     ...  \n",
       "78679  install roofmounted solar system existing sing...     0      65  \n",
       "78680  install roof mounted solar system existing sin...     0      66  \n",
       "78681  install 6 solar panels exis system exis single...     0      63  \n",
       "78682  install solar panels exsiting single family re...     0      53  \n",
       "78683  install 3800 watt roof mnt solar panel system ...     0      72  \n",
       "\n",
       "[78684 rows x 5 columns]"
      ]
     },
     "execution_count": 25,
     "metadata": {},
     "output_type": "execute_result"
    }
   ],
   "source": [
    "df_chunk.shape\n",
    "df_chunk"
   ]
  },
  {
   "cell_type": "code",
   "execution_count": 20,
   "metadata": {},
   "outputs": [
    {
     "name": "stderr",
     "output_type": "stream",
     "text": [
      "/var/folders/54/mhs5zkcs6zb1_y58hd7pczjc0000gn/T/ipykernel_76499/3525323179.py:6: FutureWarning: Series.__getitem__ treating keys as positions is deprecated. In a future version, integer keys will always be treated as labels (consistent with DataFrame behavior). To access a value by position, use `ser.iloc[pos]`\n",
      "  if len(just_text.iloc[i][0]) > max_len:\n",
      "/var/folders/54/mhs5zkcs6zb1_y58hd7pczjc0000gn/T/ipykernel_76499/3525323179.py:7: FutureWarning: Series.__getitem__ treating keys as positions is deprecated. In a future version, integer keys will always be treated as labels (consistent with DataFrame behavior). To access a value by position, use `ser.iloc[pos]`\n",
      "  max_len = len(just_text.iloc[i][0])\n",
      "/var/folders/54/mhs5zkcs6zb1_y58hd7pczjc0000gn/T/ipykernel_76499/3525323179.py:8: FutureWarning: Series.__getitem__ treating keys as positions is deprecated. In a future version, integer keys will always be treated as labels (consistent with DataFrame behavior). To access a value by position, use `ser.iloc[pos]`\n",
      "  max_text = just_text.iloc[i][0]\n"
     ]
    },
    {
     "data": {
      "text/plain": [
       "(1454,\n",
       " 'photovoltaic system effective building codes nec 690 705 zoning r18 reviewer gba historic preservationyesxno quantity size panels 37 260 weight panels 24 psf existing roof framing conventional x truss service upgrade main breaker derate included x yesderated 200 150a main disconnect new siemens 240v200 150a main disconnect service panel single phase separate permit service uprade derate x yes permit description work installation 9620kw photovoltaic system per approved plans specifications system installed accordance nec 690 posted applicable warnings signage plaques per nec 69017 690 b4 70510 approval compliance current adopted building codes proposed solar system ownersapplicants responsibility ensure proposed installation solar systems associated equipment legally permitted structures determined inspection staff proposed solar system installed nonpermitted structures required modifications needed code compliance ownersapplicants expense first revision approved per set plans gba 10252016 jram 1st revision 10252016 installation 9805 kw photovoltaic system new manufacturer siemens number mc4040s1200sc 240v200a busbar rating service panel single phase 200a main disconnect jram fee option valuationbased fixed fee option a3 inspections fixed fee option b2 inspections fixed fee option c2 inspections x fixed fee option d1 inspection fixed fee option e1 inspection additional inspections required reinspection fees assessed field inspector')"
      ]
     },
     "execution_count": 20,
     "metadata": {},
     "output_type": "execute_result"
    }
   ],
   "source": [
    "just_text = df_chunk[['CLEAN_DESCRIPTION']]\n",
    "# find the longest text chunk\n",
    "max_len = 0\n",
    "max_text = \"\"\n",
    "for i in range(len(just_text)):\n",
    "    if len(just_text.iloc[i][0]) > max_len:\n",
    "        max_len = len(just_text.iloc[i][0])\n",
    "        max_text = just_text.iloc[i][0]\n",
    "max_len, max_text"
   ]
  },
  {
   "cell_type": "code",
   "execution_count": 21,
   "metadata": {},
   "outputs": [],
   "source": [
    "embeddings = get_embeddings(max_text)"
   ]
  },
  {
   "cell_type": "code",
   "execution_count": 22,
   "metadata": {},
   "outputs": [
    {
     "data": {
      "text/plain": [
       "(1, 768)"
      ]
     },
     "execution_count": 22,
     "metadata": {},
     "output_type": "execute_result"
    }
   ],
   "source": [
    "embeddings.shape"
   ]
  }
 ],
 "metadata": {
  "kernelspec": {
   "display_name": "residential-solar",
   "language": "python",
   "name": "residential-solar"
  },
  "language_info": {
   "codemirror_mode": {
    "name": "ipython",
    "version": 3
   },
   "file_extension": ".py",
   "mimetype": "text/x-python",
   "name": "python",
   "nbconvert_exporter": "python",
   "pygments_lexer": "ipython3",
   "version": "3.11.4"
  },
  "orig_nbformat": 4
 },
 "nbformat": 4,
 "nbformat_minor": 2
}
